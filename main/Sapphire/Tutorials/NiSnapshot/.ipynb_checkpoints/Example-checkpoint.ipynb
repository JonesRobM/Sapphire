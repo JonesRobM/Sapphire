{
 "cells": [
  {
   "cell_type": "code",
   "execution_count": null,
   "id": "63fcdb5e",
   "metadata": {},
   "outputs": [],
   "source": [
    "import sys\n",
    "sys.path.append('/home/robert/Documents/Sapphire/Sapphire/')"
   ]
  },
  {
   "cell_type": "code",
   "execution_count": 1,
   "id": "32860296",
   "metadata": {},
   "outputs": [],
   "source": [
    "import sys\n",
    "from Sapphire.Post_Process import Process #Sapphire internal library for evaluating frames\n",
    "import pickle\n",
    "\n",
    "#Define the environment variables for your analysis.\n",
    "\n",
    "System = {\n",
    "    'base_dir': '', #Is where to reference files\n",
    "    'movie_file_name': 'Ni1289_To.xyz', #What trajectory to pull\n",
    "    'Homo': ['Ni'], #Atoms types to find\n",
    "    'Hetero': False, #Do not expect multi-species\n",
    "    'Start': 0, 'End': None, 'Step': 1, 'Skip': 1 #Which frames to consider\n",
    "} #Skip == how often to considder RCUT\n",
    "\n",
    "#RCUT calculated every skip*step frames\n",
    "#All else - every step frames"
   ]
  },
  {
   "cell_type": "code",
   "execution_count": 2,
   "id": "86e40816",
   "metadata": {},
   "outputs": [],
   "source": [
    "# Define the quantities you want calculating given the names\n",
    "# in the supporting documentation.\n",
    "\n",
    "Quantities = {\n",
    "    'Full':\n",
    "    {\n",
    "        'euc': None, 'rdf': None, 'pos': None,  'comdist': None,\n",
    "        'moi': None, 'adj': None, 'pdf': None, 'pair_distance': None,\n",
    "        'agcn': {'Write_Movie': False},\n",
    "        'nn': None, 'com': None, 'cna_sigs': None,\n",
    "        'cna_patterns': {'Write_Movie': True},\n",
    "        'gyration': None, 'stat_radius': None,\n",
    "        'surf_area': None, 'surf_atoms': None\n",
    "    },\n",
    "    'Homo': {},\n",
    "    'Hetero': {}\n",
    "}\n"
   ]
  },
  {
   "cell_type": "code",
   "execution_count": 3,
   "id": "ab5dcc50",
   "metadata": {},
   "outputs": [],
   "source": [
    "CNA_Pattern_Settings = {\n",
    "    'npz_dir': 'CNA_npz/',  # folder to save the npz files in\n",
    "    'new_xyz_dir': 'CNA_XYZs/',\n",
    "    'APPEND_DICTIONARY': False,\n",
    "    'FROM_MEMORY': False,\n",
    "    'BULK_MASTERKEY': True,\n",
    "    'SAVING_XYZ': True,\n",
    "    'PRINTING_PATTERNS': True\n",
    "}\n",
    "\n",
    "#Saves as an intteger\n",
    "#Lookup integer w.r.t saved patterns \n",
    "#Atom-wiose numerical descriptor for cna pattern "
   ]
  },
  {
   "cell_type": "code",
   "execution_count": 4,
   "id": "66eadf9a",
   "metadata": {},
   "outputs": [
    {
     "name": "stderr",
     "output_type": "stream",
     "text": [
      "/home/robert/Documents/Env/lib/python3.6/site-packages/Sapphire/Utilities/System_Clean.py:153: UserWarning: \n",
      "System property \"extend_xyz\" is bad. Typically, this is because the required information has not been provied by the user or is given incorrectly.\n",
      "Reverting to System default \"None\".\n",
      "\n",
      "  warnings.warn(none_template % ('extend_xyz', self.Default['extend_xyz']))\n",
      "/home/robert/Documents/Env/lib/python3.6/site-packages/Sapphire/Utilities/System_Clean.py:238: UserWarning: \n",
      "System property \"End\" is bad. Typically, this is because the required information has not been provied by the user or is given incorrectly.\n",
      "Reverting to System default \"1\".\n",
      "\n",
      "  warnings.warn(none_template % ('End', self.Default['End']))\n",
      "/home/robert/Documents/Env/lib/python3.6/site-packages/Sapphire/Utilities/System_Clean.py:310: UserWarning: \n",
      "System property \"UniformPDF\" is bad. Typically, this is because the required information has not been provied by the user or is given incorrectly.\n",
      "Reverting to System default \"False\".\n",
      "\n",
      "  warnings.warn(none_template % ('UniformPDF', self.Default['UniformPDF']))\n",
      "/home/robert/Documents/Env/lib/python3.6/site-packages/Sapphire/Utilities/System_Clean.py:326: UserWarning: \n",
      "System property \"Band\" is bad. Typically, this is because the required information has not been provied by the user or is given incorrectly.\n",
      "Reverting to System default \"0.05\".\n",
      "\n",
      "  warnings.warn(none_template % ('Band', self.Default['Band']))\n"
     ]
    },
    {
     "ename": "TypeError",
     "evalue": "argument of type 'NoneType' is not iterable",
     "output_type": "error",
     "traceback": [
      "\u001b[0;31m---------------------------------------------------------------------------\u001b[0m",
      "\u001b[0;31mRemoteTraceback\u001b[0m                           Traceback (most recent call last)",
      "\u001b[0;31mRemoteTraceback\u001b[0m: \n\"\"\"\nTraceback (most recent call last):\n  File \"/home/robert/Documents/Env/lib/python3.6/site-packages/Sapphire/Post_Process/Process.py\", line 381, in calculate\n    self.result_cache['pos'], Type = 'Full', Frame = i)\n  File \"/home/robert/Documents/Env/lib/python3.6/site-packages/Sapphire/Post_Process/DistFuncs.py\", line 244, in __init__\n    self.write()\n  File \"/home/robert/Documents/Env/lib/python3.6/site-packages/Sapphire/Post_Process/DistFuncs.py\", line 316, in write\n    OutFile = self.System['base_dir'] + Attributes['Dir'] + Attributes['File']\nAttributeError: 'RDF' object has no attribute 'System'\n\nDuring handling of the above exception, another exception occurred:\n\nTraceback (most recent call last):\n  File \"/usr/lib/python3.6/multiprocessing/pool.py\", line 119, in worker\n    result = (True, func(*args, **kwds))\n  File \"/usr/lib/python3.6/multiprocessing/pool.py\", line 44, in mapstar\n    return list(map(*args))\n  File \"/home/robert/Documents/Env/lib/python3.6/site-packages/Sapphire/Post_Process/Process.py\", line 387, in calculate\n    if self.System.System['Homo'] and 'hordf' in self.Quantities['Homo']:\nTypeError: argument of type 'NoneType' is not iterable\n\"\"\"",
      "\nThe above exception was the direct cause of the following exception:\n",
      "\u001b[0;31mTypeError\u001b[0m                                 Traceback (most recent call last)",
      "\u001b[0;32m<ipython-input-4-83286ee8db9d>\u001b[0m in \u001b[0;36m<module>\u001b[0;34m\u001b[0m\n\u001b[1;32m      1\u001b[0m Data = Process.Process(\n\u001b[1;32m      2\u001b[0m     \u001b[0mSystem\u001b[0m\u001b[0;34m=\u001b[0m\u001b[0mSystem\u001b[0m\u001b[0;34m,\u001b[0m \u001b[0mQuantities\u001b[0m\u001b[0;34m=\u001b[0m\u001b[0mQuantities\u001b[0m\u001b[0;34m,\u001b[0m\u001b[0;34m\u001b[0m\u001b[0;34m\u001b[0m\u001b[0m\n\u001b[0;32m----> 3\u001b[0;31m     \u001b[0mPattern_Input\u001b[0m\u001b[0;34m=\u001b[0m\u001b[0mCNA_Pattern_Settings\u001b[0m\u001b[0;34m,\u001b[0m \u001b[0mCores\u001b[0m\u001b[0;34m=\u001b[0m\u001b[0;36m1\u001b[0m\u001b[0;34m\u001b[0m\u001b[0;34m\u001b[0m\u001b[0m\n\u001b[0m\u001b[1;32m      4\u001b[0m )\n\u001b[1;32m      5\u001b[0m \u001b[0;34m\u001b[0m\u001b[0m\n",
      "\u001b[0;32m~/Documents/Env/lib/python3.6/site-packages/Sapphire/Post_Process/Process.py\u001b[0m in \u001b[0;36m__init__\u001b[0;34m(self, System, Quantities, Pattern_Input, Cores)\u001b[0m\n\u001b[1;32m     59\u001b[0m         \u001b[0mself\u001b[0m\u001b[0;34m.\u001b[0m\u001b[0mInitialising\u001b[0m\u001b[0;34m(\u001b[0m\u001b[0;34m)\u001b[0m\u001b[0;34m\u001b[0m\u001b[0;34m\u001b[0m\u001b[0m\n\u001b[1;32m     60\u001b[0m         \u001b[0mself\u001b[0m\u001b[0;34m.\u001b[0m\u001b[0mrun_pdf\u001b[0m\u001b[0;34m(\u001b[0m\u001b[0;34m)\u001b[0m\u001b[0;34m\u001b[0m\u001b[0;34m\u001b[0m\u001b[0m\n\u001b[0;32m---> 61\u001b[0;31m         \u001b[0mself\u001b[0m\u001b[0;34m.\u001b[0m\u001b[0mrun_core\u001b[0m\u001b[0;34m(\u001b[0m\u001b[0;34m)\u001b[0m\u001b[0;34m\u001b[0m\u001b[0;34m\u001b[0m\u001b[0m\n\u001b[0m\u001b[1;32m     62\u001b[0m \u001b[0;34m\u001b[0m\u001b[0m\n\u001b[1;32m     63\u001b[0m     \u001b[0;32mdef\u001b[0m \u001b[0mensure_dir\u001b[0m\u001b[0;34m(\u001b[0m\u001b[0mself\u001b[0m\u001b[0;34m,\u001b[0m \u001b[0mbase_dir\u001b[0m\u001b[0;34m=\u001b[0m\u001b[0;34m''\u001b[0m\u001b[0;34m,\u001b[0m \u001b[0mfile_path\u001b[0m\u001b[0;34m=\u001b[0m\u001b[0;34m''\u001b[0m\u001b[0;34m)\u001b[0m\u001b[0;34m:\u001b[0m\u001b[0;34m\u001b[0m\u001b[0;34m\u001b[0m\u001b[0m\n",
      "\u001b[0;32m~/Documents/Env/lib/python3.6/site-packages/Sapphire/Post_Process/Process.py\u001b[0m in \u001b[0;36mrun_core\u001b[0;34m(self)\u001b[0m\n\u001b[1;32m    767\u001b[0m         \u001b[0;32mwith\u001b[0m \u001b[0mopen\u001b[0m\u001b[0;34m(\u001b[0m\u001b[0mself\u001b[0m\u001b[0;34m.\u001b[0m\u001b[0mSystem\u001b[0m\u001b[0;34m.\u001b[0m\u001b[0mSystem\u001b[0m\u001b[0;34m[\u001b[0m\u001b[0;34m'base_dir'\u001b[0m\u001b[0;34m]\u001b[0m\u001b[0;34m+\u001b[0m\u001b[0;34m'Sapphire_Info.txt'\u001b[0m\u001b[0;34m,\u001b[0m \u001b[0;34m\"a\"\u001b[0m\u001b[0;34m)\u001b[0m \u001b[0;32mas\u001b[0m \u001b[0mf\u001b[0m\u001b[0;34m:\u001b[0m\u001b[0;34m\u001b[0m\u001b[0;34m\u001b[0m\u001b[0m\n\u001b[1;32m    768\u001b[0m             \u001b[0mf\u001b[0m\u001b[0;34m.\u001b[0m\u001b[0mwrite\u001b[0m\u001b[0;34m(\u001b[0m\u001b[0;34m\"\\nWorkers designated for calculations.\\n\"\u001b[0m\u001b[0;34m)\u001b[0m\u001b[0;34m\u001b[0m\u001b[0;34m\u001b[0m\u001b[0m\n\u001b[0;32m--> 769\u001b[0;31m         \u001b[0m_\u001b[0m \u001b[0;34m=\u001b[0m \u001b[0mp\u001b[0m\u001b[0;34m.\u001b[0m\u001b[0mmap\u001b[0m\u001b[0;34m(\u001b[0m\u001b[0mself\u001b[0m\u001b[0;34m.\u001b[0m\u001b[0mcalculate\u001b[0m\u001b[0;34m,\u001b[0m \u001b[0;34m(\u001b[0m\u001b[0mself\u001b[0m\u001b[0;34m.\u001b[0m\u001b[0mAll_Times\u001b[0m\u001b[0;34m)\u001b[0m\u001b[0;34m)\u001b[0m\u001b[0;34m\u001b[0m\u001b[0;34m\u001b[0m\u001b[0m\n\u001b[0m\u001b[1;32m    770\u001b[0m         \u001b[0mp\u001b[0m\u001b[0;34m.\u001b[0m\u001b[0mclose\u001b[0m\u001b[0;34m(\u001b[0m\u001b[0;34m)\u001b[0m\u001b[0;34m\u001b[0m\u001b[0;34m\u001b[0m\u001b[0m\n\u001b[1;32m    771\u001b[0m         \u001b[0mp\u001b[0m\u001b[0;34m.\u001b[0m\u001b[0mjoin\u001b[0m\u001b[0;34m(\u001b[0m\u001b[0;34m)\u001b[0m\u001b[0;34m\u001b[0m\u001b[0;34m\u001b[0m\u001b[0m\n",
      "\u001b[0;32m/usr/lib/python3.6/multiprocessing/pool.py\u001b[0m in \u001b[0;36mmap\u001b[0;34m(self, func, iterable, chunksize)\u001b[0m\n\u001b[1;32m    264\u001b[0m         \u001b[0;32min\u001b[0m \u001b[0ma\u001b[0m \u001b[0mlist\u001b[0m \u001b[0mthat\u001b[0m \u001b[0;32mis\u001b[0m \u001b[0mreturned\u001b[0m\u001b[0;34m.\u001b[0m\u001b[0;34m\u001b[0m\u001b[0;34m\u001b[0m\u001b[0m\n\u001b[1;32m    265\u001b[0m         '''\n\u001b[0;32m--> 266\u001b[0;31m         \u001b[0;32mreturn\u001b[0m \u001b[0mself\u001b[0m\u001b[0;34m.\u001b[0m\u001b[0m_map_async\u001b[0m\u001b[0;34m(\u001b[0m\u001b[0mfunc\u001b[0m\u001b[0;34m,\u001b[0m \u001b[0miterable\u001b[0m\u001b[0;34m,\u001b[0m \u001b[0mmapstar\u001b[0m\u001b[0;34m,\u001b[0m \u001b[0mchunksize\u001b[0m\u001b[0;34m)\u001b[0m\u001b[0;34m.\u001b[0m\u001b[0mget\u001b[0m\u001b[0;34m(\u001b[0m\u001b[0;34m)\u001b[0m\u001b[0;34m\u001b[0m\u001b[0;34m\u001b[0m\u001b[0m\n\u001b[0m\u001b[1;32m    267\u001b[0m \u001b[0;34m\u001b[0m\u001b[0m\n\u001b[1;32m    268\u001b[0m     \u001b[0;32mdef\u001b[0m \u001b[0mstarmap\u001b[0m\u001b[0;34m(\u001b[0m\u001b[0mself\u001b[0m\u001b[0;34m,\u001b[0m \u001b[0mfunc\u001b[0m\u001b[0;34m,\u001b[0m \u001b[0miterable\u001b[0m\u001b[0;34m,\u001b[0m \u001b[0mchunksize\u001b[0m\u001b[0;34m=\u001b[0m\u001b[0;32mNone\u001b[0m\u001b[0;34m)\u001b[0m\u001b[0;34m:\u001b[0m\u001b[0;34m\u001b[0m\u001b[0;34m\u001b[0m\u001b[0m\n",
      "\u001b[0;32m/usr/lib/python3.6/multiprocessing/pool.py\u001b[0m in \u001b[0;36mget\u001b[0;34m(self, timeout)\u001b[0m\n\u001b[1;32m    642\u001b[0m             \u001b[0;32mreturn\u001b[0m \u001b[0mself\u001b[0m\u001b[0;34m.\u001b[0m\u001b[0m_value\u001b[0m\u001b[0;34m\u001b[0m\u001b[0;34m\u001b[0m\u001b[0m\n\u001b[1;32m    643\u001b[0m         \u001b[0;32melse\u001b[0m\u001b[0;34m:\u001b[0m\u001b[0;34m\u001b[0m\u001b[0;34m\u001b[0m\u001b[0m\n\u001b[0;32m--> 644\u001b[0;31m             \u001b[0;32mraise\u001b[0m \u001b[0mself\u001b[0m\u001b[0;34m.\u001b[0m\u001b[0m_value\u001b[0m\u001b[0;34m\u001b[0m\u001b[0;34m\u001b[0m\u001b[0m\n\u001b[0m\u001b[1;32m    645\u001b[0m \u001b[0;34m\u001b[0m\u001b[0m\n\u001b[1;32m    646\u001b[0m     \u001b[0;32mdef\u001b[0m \u001b[0m_set\u001b[0m\u001b[0;34m(\u001b[0m\u001b[0mself\u001b[0m\u001b[0;34m,\u001b[0m \u001b[0mi\u001b[0m\u001b[0;34m,\u001b[0m \u001b[0mobj\u001b[0m\u001b[0;34m)\u001b[0m\u001b[0;34m:\u001b[0m\u001b[0;34m\u001b[0m\u001b[0;34m\u001b[0m\u001b[0m\n",
      "\u001b[0;31mTypeError\u001b[0m: argument of type 'NoneType' is not iterable"
     ]
    }
   ],
   "source": [
    "Data = Process.Process(\n",
    "    System=System, Quantities=Quantities,\n",
    "    Pattern_Input=CNA_Pattern_Settings, Cores=1\n",
    ")\n",
    "\n",
    "Meta = Data.analyse()"
   ]
  },
  {
   "cell_type": "code",
   "execution_count": null,
   "id": "04118a96",
   "metadata": {},
   "outputs": [],
   "source": [
    "with open(System['base_dir']+\"Metadata.csv\", \"wb\") as file:\n",
    "    pickle.dump(Data.metadata, file, protocol=pickle.HIGHEST_PROTOCOL)"
   ]
  },
  {
   "cell_type": "code",
   "execution_count": null,
   "id": "10654110",
   "metadata": {},
   "outputs": [],
   "source": [
    "import numpy as np\n",
    "space = np.loadtxt('Time_Dependent/PDFSpace')\n",
    "pdf = np.loadtxt('Time_Dependent/PDF')\n"
   ]
  },
  {
   "cell_type": "code",
   "execution_count": null,
   "id": "861d6e74",
   "metadata": {},
   "outputs": [],
   "source": [
    "import matplotlib.pyplot as plt"
   ]
  },
  {
   "cell_type": "code",
   "execution_count": null,
   "id": "a563228e",
   "metadata": {},
   "outputs": [],
   "source": [
    "plt.plot(pdf, '--r')"
   ]
  },
  {
   "cell_type": "code",
   "execution_count": null,
   "id": "052a8d66",
   "metadata": {},
   "outputs": [],
   "source": [
    "com = np.loadtxt('Time_Dependent/CoMDist')\n",
    "plt.plot(space,com, '--b')\n"
   ]
  },
  {
   "cell_type": "code",
   "execution_count": null,
   "id": "c5f6dfc8",
   "metadata": {},
   "outputs": [],
   "source": []
  }
 ],
 "metadata": {
  "kernelspec": {
   "display_name": "Env",
   "language": "python",
   "name": "env"
  },
  "language_info": {
   "codemirror_mode": {
    "name": "ipython",
    "version": 3
   },
   "file_extension": ".py",
   "mimetype": "text/x-python",
   "name": "python",
   "nbconvert_exporter": "python",
   "pygments_lexer": "ipython3",
   "version": "3.6.9"
  }
 },
 "nbformat": 4,
 "nbformat_minor": 5
}
