{
 "cells": [
  {
   "cell_type": "code",
   "execution_count": null,
   "id": "63fcdb5e",
   "metadata": {},
   "outputs": [],
   "source": [
    "import sys\n",
    "sys.path.append('/home/robert/Documents/Sapphire/Sapphire/')"
   ]
  },
  {
   "cell_type": "code",
   "execution_count": null,
   "id": "32860296",
   "metadata": {},
   "outputs": [],
   "source": [
    "import sys\n",
    "from Sapphire.Post_Process import Process #Sapphire internal library for evaluating frames\n",
    "import pickle\n",
    "\n",
    "#Define the environment variables for your analysis.\n",
    "\n",
    "System = {\n",
    "    'base_dir': '', #Is where to reference files\n",
    "    'movie_file_name': 'Ni1289_To.xyz', #What trajectory to pull\n",
    "    'Homo': ['Ni'], #Atoms types to find\n",
    "    'Hetero': False, #Do not expect multi-species\n",
    "    'Start': 0, 'End': None, 'Step': 1, 'Skip': 1 #Which frames to consider\n",
    "} #Skip == how often to considder RCUT\n",
    "\n",
    "#RCUT calculated every skip*step frames\n",
    "#All else - every step frames"
   ]
  },
  {
   "cell_type": "code",
   "execution_count": null,
   "id": "86e40816",
   "metadata": {},
   "outputs": [],
   "source": [
    "# Define the quantities you want calculating given the names\n",
    "# in the supporting documentation.\n",
    "\n",
    "Quantities = {\n",
    "    'Full':\n",
    "    {\n",
    "        'euc': None, 'rdf': None, 'pos': None,  'comdist': None,\n",
    "        'moi': None, 'adj': None, 'pdf': None, 'pair_distance': None,\n",
    "        'agcn': {'Write_Movie': False},\n",
    "        'nn': None, 'com': None, 'cna_sigs': None,\n",
    "        'cna_patterns': {'Write_Movie': True},\n",
    "        'gyration': None, 'stat_radius': None,\n",
    "        'surf_area': None, 'surf_atoms': None\n",
    "    },\n",
    "    'Homo': {},\n",
    "    'Hetero': {}\n",
    "}\n"
   ]
  },
  {
   "cell_type": "code",
   "execution_count": null,
   "id": "ab5dcc50",
   "metadata": {},
   "outputs": [],
   "source": [
    "CNA_Pattern_Settings = {\n",
    "    'npz_dir': 'CNA_npz/',  # folder to save the npz files in\n",
    "    'new_xyz_dir': 'CNA_XYZs/',\n",
    "    'APPEND_DICTIONARY': False,\n",
    "    'FROM_MEMORY': False,\n",
    "    'BULK_MASTERKEY': True,\n",
    "    'SAVING_XYZ': True,\n",
    "    'PRINTING_PATTERNS': True\n",
    "}\n",
    "\n",
    "#Saves as an intteger\n",
    "#Lookup integer w.r.t saved patterns \n",
    "#Atom-wiose numerical descriptor for cna pattern "
   ]
  },
  {
   "cell_type": "code",
   "execution_count": null,
   "id": "66eadf9a",
   "metadata": {},
   "outputs": [],
   "source": [
    "Data = Process.Process(\n",
    "    System=System, Quantities=Quantities,\n",
    "    Pattern_Input=CNA_Pattern_Settings, Cores=1\n",
    ")\n",
    "\n",
    "Meta = Data.analyse()"
   ]
  },
  {
   "cell_type": "code",
   "execution_count": null,
   "id": "04118a96",
   "metadata": {},
   "outputs": [],
   "source": [
    "with open(System['base_dir']+\"Metadata.csv\", \"wb\") as file:\n",
    "    pickle.dump(Data.metadata, file, protocol=pickle.HIGHEST_PROTOCOL)"
   ]
  },
  {
   "cell_type": "code",
   "execution_count": null,
   "id": "10654110",
   "metadata": {},
   "outputs": [],
   "source": [
    "import numpy as np\n",
    "space = np.loadtxt('Time_Dependent/PDFSpace')\n",
    "pdf = np.loadtxt('Time_Dependent/PDF')\n"
   ]
  },
  {
   "cell_type": "code",
   "execution_count": null,
   "id": "861d6e74",
   "metadata": {},
   "outputs": [],
   "source": [
    "import matplotlib.pyplot as plt"
   ]
  },
  {
   "cell_type": "code",
   "execution_count": null,
   "id": "a563228e",
   "metadata": {},
   "outputs": [],
   "source": [
    "plt.plot(pdf, '--r')"
   ]
  },
  {
   "cell_type": "code",
   "execution_count": null,
   "id": "052a8d66",
   "metadata": {},
   "outputs": [],
   "source": [
    "com = np.loadtxt('Time_Dependent/CoMDist')\n",
    "plt.plot(space,com, '--b')\n"
   ]
  },
  {
   "cell_type": "code",
   "execution_count": null,
   "id": "c5f6dfc8",
   "metadata": {},
   "outputs": [],
   "source": []
  }
 ],
 "metadata": {
  "kernelspec": {
   "display_name": "Env",
   "language": "python",
   "name": "env"
  },
  "language_info": {
   "codemirror_mode": {
    "name": "ipython",
    "version": 3
   },
   "file_extension": ".py",
   "mimetype": "text/x-python",
   "name": "python",
   "nbconvert_exporter": "python",
   "pygments_lexer": "ipython3",
   "version": "3.6.9"
  }
 },
 "nbformat": 4,
 "nbformat_minor": 5
}
