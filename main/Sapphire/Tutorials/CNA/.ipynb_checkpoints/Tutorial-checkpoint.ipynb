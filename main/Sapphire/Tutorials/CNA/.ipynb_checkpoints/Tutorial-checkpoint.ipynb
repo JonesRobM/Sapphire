{
 "cells": [
  {
   "cell_type": "code",
   "execution_count": null,
   "id": "99ee30b3",
   "metadata": {},
   "outputs": [],
   "source": [
    "from Sapphire.Utilities.Building import nanoico #Let's build a small example nanocluster\n",
    "nanoico.Nanoalloy.create_alloy_ico(['Au', 'Au', 'Au', 'Au', 'Au'], 6, 4.07, 'Au561.xyz')"
   ]
  },
  {
   "cell_type": "markdown",
   "id": "20d9c97b",
   "metadata": {},
   "source": [
    "Using the building tools in Sapphire, we are able to construct a small Au icosahedron of 561 atoms.\n",
    "We may now proceed to perform some targetted alanysis on this object."
   ]
  },
  {
   "cell_type": "code",
   "execution_count": null,
   "id": "5bef38bc",
   "metadata": {},
   "outputs": [],
   "source": [
    "from Sapphire.Post_Process import Adjacent,Kernels,DistFuncs #Some basic tools geometric analysis\n",
    "from ase.io import read #Whilst this is a part of the core Sapphire setup, we can demonstrate its uitility more easily here\n",
    "\n",
    "au = read('Au561.xyz')\n",
    "pos = au.positions\n",
    "dist = DistFuncs.Euc_Dist(pos) #Get a list of pairwise distances.\n",
    "#Now why don't we visualise the pair distances as a distribution?\n",
    "import matplotlib.pyplot as plt\n",
    "a,b,c = plt.hist(dist, density=True, bins = 200)"
   ]
  },
  {
   "cell_type": "markdown",
   "id": "2823fb46",
   "metadata": {},
   "source": [
    "This does not look particularly helpful, and so we shall make use of Sapphire's Kernel Density Estimators (KDEs) to get a smoother approximation on the pair distance distribution function.\n",
    "\n",
    "We primarily advocate for the use of the Gaussian kernels, though others are supported.\n",
    "A bandwidth of 0.05 should be adequate to acquire a good balance between smoothness and detail in the resultant distribution.\n",
    "\n",
    "As a default, Sapphire only considers the first 6 Å of pair distances for the sake of speed when computing the full KDE. However, this is something which is easily varied, as explored in the PDDF tutorial."
   ]
  },
  {
   "cell_type": "code",
   "execution_count": null,
   "id": "af7be854",
   "metadata": {},
   "outputs": [],
   "source": [
    "K = Kernels.Gauss(dist, 0.05)"
   ]
  },
  {
   "cell_type": "code",
   "execution_count": null,
   "id": "0f9217b4",
   "metadata": {},
   "outputs": [],
   "source": [
    "fig,ax = plt.subplots()\n",
    "ax.plot(K.Space, K.Density, color = 'k', label = 'Gaussian KDE')\n",
    "ax1 = ax.twinx()\n",
    "a,b,c = ax1.hist(dist, density=True, bins = 200, color = 'r', label = 'Raw Histogram')\n",
    "plt.xlim(0,6)\n",
    "ax.set_xlabel('Pair distance (Å)')\n",
    "ax.set_ylabel('Freq arb. un.')\n",
    "fig.legend()"
   ]
  },
  {
   "cell_type": "markdown",
   "id": "5a3828fc",
   "metadata": {},
   "source": [
    "As we can see, there is a distinct advantage in using the KDE method to compute the pair distance distribution function over the raw histogram. Namely, we are able to extract information more easily, and being an analytic function, taking derivatives to find minima is simple!\n",
    "\n",
    "\n",
    "Next, we compute the adjacency matrix which is stored as a sparse scipy matrix to save on memory overheads. This simply requires the atomic positions, the pair distances we computed earlier, and the first minimum of the pair distance distribution function."
   ]
  },
  {
   "cell_type": "code",
   "execution_count": null,
   "id": "6dcb6f03",
   "metadata": {},
   "outputs": [],
   "source": [
    "A = Adjacent.Adjacency_Matrix(Positions=pos, Distances=dist, R_Cut=K.R_Cut)\n",
    "adj = A.ReturnAdj()"
   ]
  },
  {
   "cell_type": "markdown",
   "id": "6271382b",
   "metadata": {},
   "source": [
    "We shall introduce the CNA function by running through the main workflow explicitly before hiding much of the machinary behind the curtain of python."
   ]
  },
  {
   "cell_type": "code",
   "execution_count": null,
   "id": "35b46c55",
   "metadata": {},
   "outputs": [],
   "source": [
    "from Sapphire.CNA.FrameSignature import CNA\n",
    "Sigs = {} #We shall not presupose the existence of any CNA signatures.\n",
    "for i, atom in enumerate(au): #Iterate over all atoms in the cluster \n",
    "    cna = CNA(adj = adj)\n",
    "    cna.NN(i) #Aquire the nearest neighbours to the reference atom being considered\n",
    "    for neigh in cna.neigh:\n",
    "        sig = tuple((cna.R(i,neigh), cna.S(), cna.T()))\n",
    "        try:\n",
    "            Sigs[sig]+=1\n",
    "        except KeyError:\n",
    "            print(sig)\n",
    "            Sigs[sig] = 1"
   ]
  },
  {
   "cell_type": "markdown",
   "id": "b7db70e6",
   "metadata": {},
   "source": [
    "As we can see, there are 5 CNA signatures associated with the Ih structure which have been identified. This is indeed as it should be. \n",
    "\n",
    "555 - indicative of a 5-fold symmetry axis.\n",
    "422 & 421 - Indicative of FCC environment\n",
    "322 & 321 are generally representative of surfaces with (111) Miller indices. This shall be expanded on later in the tutorial.\n",
    "\n",
    "With our signatures collected, we may now evaluate their distribution."
   ]
  },
  {
   "cell_type": "code",
   "execution_count": null,
   "id": "d552d154",
   "metadata": {},
   "outputs": [],
   "source": [
    "import numpy as np\n",
    "xaxis = np.arange(0,len(Sigs)) #Define the range for the x axis\n",
    "yaxis = np.array([x for x in Sigs.values()]) #Set the y axis values from the dictionary\n",
    "xlabels = [ str(x) for x in Sigs.keys() ] #Create a list of labels for the bar chart\n",
    "\n",
    "plt.bar(xaxis,yaxis)\n",
    "\n",
    "plt.xticks(xaxis,xlabels, rotation = 45)\n",
    "plt.xlabel('CNA signature')\n",
    "plt.ylabel('Counts')"
   ]
  },
  {
   "cell_type": "markdown",
   "id": "b275e492",
   "metadata": {},
   "source": [
    "Now that we have a good feeling for what this distribution may feel like, we can begin to evaluate what the bonding environment itself may actually look like.\n",
    "\n",
    "As such, we provide below two example functions to extract the positional information, given the cna signature, for the atoms and their evaluated bonds.\n",
    "\n",
    "We may sort the bonds into 3 lists representing the following quantities:\n",
    "\n",
    "    1. pair_edge = The bonding pair in question.\n",
    "    2. s_edge = All of the bonds shared between the reference pair and their shared neighbours.\n",
    "    3. t_edge = All of the bonds shared by the shared neighbours only.\n",
    "    \n",
    "We sort these three lissts manually so that we may have an easier time distinguishing environments.\n",
    "\n",
    "We shall then extract five pairs, each of which have a unique cna signature, and plot graphically their bonding environments."
   ]
  },
  {
   "cell_type": "code",
   "execution_count": null,
   "id": "7b8ac398",
   "metadata": {},
   "outputs": [],
   "source": [
    "def plotting_tool(cna=None, strut = None, reference = None, friend = None):\n",
    "    node_xyz = np.zeros((2+len(cna.bonds), 3))\n",
    "    node_xyz[0] = strut[int(reference)].position\n",
    "    node_xyz[1] = strut[int(friend)].position\n",
    "    for i,node in enumerate(cna.bonds):\n",
    "        node_xyz[i+2] = strut[int(node)].position\n",
    "        \n",
    "    pair_edge = np.zeros((2,3))\n",
    "    s_edge = np.zeros((2*len(cna.bonds),2,3))\n",
    "    t_edge = np.zeros((len(cna.perm),2,3))\n",
    "    \n",
    "    pair_edge[0] = node_xyz[0]\n",
    "    pair_edge[1] = node_xyz[1]\n",
    "    \n",
    "    for i, bond in enumerate(cna.bonds):\n",
    "        s_edge[2*i][0] = au[int(reference)].position\n",
    "        s_edge[2*i+1][0] = au[int(friend)].position\n",
    "        s_edge[2*i][1] = au[int(bond)].position\n",
    "        s_edge[2*i+1][1] = au[int(bond)].position\n",
    "    \n",
    "    for i, bond in enumerate(cna.perm):\n",
    "        t_edge[i][0] = au[int(bond[0])].position\n",
    "        t_edge[i][1] = au[int(bond[1])].position\n",
    "    return node_xyz, pair_edge, s_edge, t_edge\n",
    "\n",
    "def sig_plot(nodes, pair_edge, s_edges, t_edges, angle_A = 30, angle_B = 210):\n",
    "    fig = plt.figure()\n",
    "    ax = fig.add_subplot(111, projection=\"3d\")\n",
    "\n",
    "    # Plot the nodes - alpha is scaled by \"depth\" automatically\n",
    "    options = {\"edgecolors\": \"tab:gray\", \"node_size\": 200, \"alpha\": 0.9}\n",
    "    for i in [0,1]:\n",
    "        ax.scatter(*nodes[i].T, s=400, ec=\"w\", color = 'r')\n",
    "\n",
    "    for i, node in enumerate(nodes):\n",
    "        if i >1:\n",
    "            ax.scatter(*nodes[i].T, s=400, ec=\"w\", color = 'k')\n",
    "\n",
    "    ax.plot(*pair_edge.T, color=\"r\", linewidth = 10)\n",
    "    for vizedge in s_edges:\n",
    "        ax.plot(*vizedge.T, color=\"k\")\n",
    "    for vizedge in t_edges:\n",
    "        ax.plot(*vizedge.T, color=\"g\")\n",
    "\n",
    "    def _format_axes(ax):\n",
    "        \"\"\"Visualization options for the 3D axes.\"\"\"\n",
    "        # Turn gridlines off\n",
    "        ax.grid(False)\n",
    "        # Suppress tick labels\n",
    "        # Set axes labels\n",
    "        ax.set_xlabel(\"x (Å)\")\n",
    "        ax.set_ylabel(\"y (Å)\")\n",
    "        ax.set_zlabel(\"z (Å)\")\n",
    "        ax.view_init(angle_A, angle_B)\n",
    "    _format_axes(ax)\n",
    "    #fig.tight_layout()\n",
    "    plt.show()"
   ]
  },
  {
   "cell_type": "code",
   "execution_count": null,
   "id": "61a3989a",
   "metadata": {},
   "outputs": [],
   "source": [
    "cna = CNA(adj = adj)\n",
    "cna_555 = cna\n",
    "cna_555.NN(0)\n",
    "print(cna_555.neigh)\n",
    "cna_555.R(0,1)\n",
    "cna_555.S()\n",
    "cna_555.T()\n",
    "a,b,c,d = plotting_tool(cna_555,au,0,1)\n",
    "sig_plot(a,b,c,d)"
   ]
  },
  {
   "cell_type": "code",
   "execution_count": null,
   "id": "501c4af8",
   "metadata": {},
   "outputs": [],
   "source": [
    "cna = CNA(adj = adj)\n",
    "cna_422= cna\n",
    "cna_422.NN(10)\n",
    "print(cna_422.neigh)\n",
    "r = cna_422.R(10,26)\n",
    "s = cna_422.S()\n",
    "t = cna_422.T()\n",
    "print(tuple((r,s,t)))\n",
    "a,b,c,d = plotting_tool(cna_422,au,10,26)\n",
    "sig_plot(a,b,c,d, 15, 180)"
   ]
  },
  {
   "cell_type": "code",
   "execution_count": null,
   "id": "b51fb162",
   "metadata": {},
   "outputs": [],
   "source": [
    "cna = CNA(adj = adj)\n",
    "cna_421 = cna\n",
    "cna_421.NN(41)\n",
    "print(cna_421.neigh)\n",
    "r = cna_421.R(41,51)\n",
    "s = cna_421.S()\n",
    "t = cna_421.T()\n",
    "print(tuple((r,s,t)))\n",
    "a,b,c,d = plotting_tool(cna_421,au,0,1)\n",
    "sig_plot(a,b,c,d,45,0)"
   ]
  },
  {
   "cell_type": "code",
   "execution_count": null,
   "id": "0fab0c02",
   "metadata": {},
   "outputs": [],
   "source": [
    "cna = CNA(adj = adj)\n",
    "cna_322 = cna\n",
    "cna_322.NN(500)\n",
    "print(cna_322.neigh)\n",
    "r = cna_322.R(500,501)\n",
    "s = cna_322.S()\n",
    "t = cna_322.T()\n",
    "print(tuple((r,s,t)))\n",
    "a,b,c,d = plotting_tool(cna_322,au,0,1)\n",
    "sig_plot(a,b,c,d,135,135)"
   ]
  },
  {
   "cell_type": "code",
   "execution_count": null,
   "id": "433383be",
   "metadata": {},
   "outputs": [],
   "source": [
    "cna = CNA(adj = adj)\n",
    "cna_311 = cna\n",
    "cna_311.NN(560)\n",
    "print(cna_311.neigh)\n",
    "r = cna_311.R(560,558)\n",
    "s = cna_311.S()\n",
    "t = cna_311.T()\n",
    "print(tuple((r,s,t)))\n",
    "a,b,c,d = plotting_tool(cna_311,au,560,558)\n",
    "sig_plot(a,b,c,d, 60, 90)"
   ]
  },
  {
   "cell_type": "code",
   "execution_count": null,
   "id": "a89fc2e0",
   "metadata": {},
   "outputs": [],
   "source": []
  }
 ],
 "metadata": {
  "kernelspec": {
   "display_name": "Python [conda env:myenv]",
   "language": "python",
   "name": "conda-env-myenv-py"
  },
  "language_info": {
   "codemirror_mode": {
    "name": "ipython",
    "version": 3
   },
   "file_extension": ".py",
   "mimetype": "text/x-python",
   "name": "python",
   "nbconvert_exporter": "python",
   "pygments_lexer": "ipython3",
   "version": "3.8.13"
  }
 },
 "nbformat": 4,
 "nbformat_minor": 5
}
