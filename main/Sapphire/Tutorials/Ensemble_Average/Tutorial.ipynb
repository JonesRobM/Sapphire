{
 "cells": [
  {
   "cell_type": "code",
   "execution_count": null,
   "id": "99ee30b3",
   "metadata": {},
   "outputs": [],
   "source": [
    "from Sapphire.Post_Process import Process\n",
    "\n",
    "System = {\n",
    "    'base_dir': '../Data/AuPd_Traj/Sim-1345/',\n",
    "    'movie_file_name': 'traj.traj',\n",
    "    'energy_file_name': 'energy.out',\n",
    "\n",
    "    'Homo': ['Au', 'Pd'],\n",
    "\n",
    "    'Hetero': True,\n",
    "\n",
    "    'Start': 0, 'End': None, 'Step': 1, 'Skip': 50, 'UniformPDF': False, 'Band': 0.05\n",
    "}\n",
    "\n",
    "CNA_Pattern_Settings = {\n",
    "    'npz_dir': 'CNA_npz/',  # folder to save the npz files in\n",
    "    'new_xyz_dir': 'CNA_XYZs/',\n",
    "    'APPEND_DICTIONARY': False,\n",
    "    'FROM_MEMORY': False,\n",
    "    'BULK_MASTERKEY': True,\n",
    "    'SAVING_XYZ': True,\n",
    "    'PRINTING_PATTERNS': True\n",
    "}"
   ]
  },
  {
   "cell_type": "code",
   "execution_count": null,
   "id": "c22c885b",
   "metadata": {},
   "outputs": [],
   "source": [
    "Quantities = {\n",
    "    'Full':\n",
    "    {\n",
    "        'euc': None, 'rdf': None, 'pos': None,  'comdist': None,\n",
    "        'moi': None, 'adj': None, 'pdf': None, 'pair_distance': None,\n",
    "        'agcn': {'Write_Movie': False},\n",
    "        'nn': None, 'com': None, 'cna_sigs': None,\n",
    "        'cna_patterns': {'Write_Movie': True},\n",
    "        'gyration': None, 'stat_radius': None,\n",
    "        'surf_area': None, 'surf_atoms': None\n",
    "    },\n",
    "\n",
    "        'Energy':\n",
    "    {\n",
    "        'simtime': None, 'epot': None, 'etot': None,\n",
    "        'ekin': None, 'edelta': None, 'meanetot': None, 'temp': None\n",
    "    },\n",
    "\n",
    "        'Homo':\n",
    "    {\n",
    "        'hopdf': None, 'hordf': None,\n",
    "        'hocom': None, 'hoadj': None,\n",
    "        'hocomdist': None, 'homidcomdist': None,\n",
    "        'euc': None, 'hocna_sigs': None,\n",
    "        'hocna_patterns': None, 'hogyration': None,\n",
    "        'hosurf_area': None, 'hosurf_atoms': None,\n",
    "        'hopair_distance': None\n",
    "    },\n",
    "\n",
    "        'Hetero':\n",
    "    {\n",
    "        'hepdf': None, 'herdf': None,\n",
    "        'headj': None, 'mix': None,\n",
    "        'he_pair_distance': None\n",
    "    }\n",
    "}"
   ]
  },
  {
   "cell_type": "code",
   "execution_count": null,
   "id": "5bef38bc",
   "metadata": {},
   "outputs": [],
   "source": [
    "Analysis = {\n",
    "    # \"JSD\" : [\"rdf\", \"pdf\"],\n",
    "    # \"Kullback\" : [\"rdf\", \"pdf\"],\n",
    "    # \"PStat\" : [\"rdf\", \"pdf\"]\n",
    "}"
   ]
  },
  {
   "cell_type": "code",
   "execution_count": null,
   "id": "09ea582c",
   "metadata": {},
   "outputs": [],
   "source": [
    "Data = Process.Process(\n",
    "    System=System, Quantities=Quantities,\n",
    "    Pattern_Input=CNA_Pattern_Settings, Cores=6\n",
    ")\n"
   ]
  },
  {
   "cell_type": "code",
   "execution_count": null,
   "id": "af7be854",
   "metadata": {},
   "outputs": [],
   "source": []
  },
  {
   "cell_type": "code",
   "execution_count": null,
   "id": "0f9217b4",
   "metadata": {},
   "outputs": [],
   "source": []
  },
  {
   "cell_type": "markdown",
   "id": "5a3828fc",
   "metadata": {},
   "source": []
  },
  {
   "cell_type": "code",
   "execution_count": null,
   "id": "6dcb6f03",
   "metadata": {},
   "outputs": [],
   "source": []
  },
  {
   "cell_type": "markdown",
   "id": "6271382b",
   "metadata": {},
   "source": []
  },
  {
   "cell_type": "code",
   "execution_count": null,
   "id": "35b46c55",
   "metadata": {},
   "outputs": [],
   "source": []
  },
  {
   "cell_type": "markdown",
   "id": "b7db70e6",
   "metadata": {},
   "source": []
  },
  {
   "cell_type": "code",
   "execution_count": null,
   "id": "d552d154",
   "metadata": {},
   "outputs": [],
   "source": []
  },
  {
   "cell_type": "markdown",
   "id": "650f7872",
   "metadata": {},
   "source": []
  },
  {
   "cell_type": "code",
   "execution_count": null,
   "id": "25a05583",
   "metadata": {},
   "outputs": [],
   "source": []
  },
  {
   "cell_type": "code",
   "execution_count": null,
   "id": "bde8c8d3",
   "metadata": {},
   "outputs": [],
   "source": []
  },
  {
   "cell_type": "code",
   "execution_count": null,
   "id": "6577e979",
   "metadata": {},
   "outputs": [],
   "source": []
  },
  {
   "cell_type": "code",
   "execution_count": null,
   "id": "8f303871",
   "metadata": {},
   "outputs": [],
   "source": []
  },
  {
   "cell_type": "code",
   "execution_count": null,
   "id": "aefdcd05",
   "metadata": {},
   "outputs": [],
   "source": []
  },
  {
   "cell_type": "code",
   "execution_count": null,
   "id": "0fc7dd78",
   "metadata": {},
   "outputs": [],
   "source": []
  },
  {
   "cell_type": "code",
   "execution_count": null,
   "id": "4ca18cfb",
   "metadata": {},
   "outputs": [],
   "source": []
  },
  {
   "cell_type": "code",
   "execution_count": null,
   "id": "498aa5eb",
   "metadata": {},
   "outputs": [],
   "source": []
  },
  {
   "cell_type": "code",
   "execution_count": null,
   "id": "9c89da3d",
   "metadata": {},
   "outputs": [],
   "source": []
  },
  {
   "cell_type": "code",
   "execution_count": null,
   "id": "75ece13a",
   "metadata": {},
   "outputs": [],
   "source": []
  },
  {
   "cell_type": "code",
   "execution_count": null,
   "id": "74aac2c8",
   "metadata": {},
   "outputs": [],
   "source": []
  },
  {
   "cell_type": "code",
   "execution_count": null,
   "id": "5e503788",
   "metadata": {},
   "outputs": [],
   "source": []
  },
  {
   "cell_type": "code",
   "execution_count": null,
   "id": "28a571a2",
   "metadata": {},
   "outputs": [],
   "source": []
  },
  {
   "cell_type": "code",
   "execution_count": null,
   "id": "85f8539c",
   "metadata": {},
   "outputs": [],
   "source": []
  },
  {
   "cell_type": "code",
   "execution_count": null,
   "id": "38558432",
   "metadata": {},
   "outputs": [],
   "source": []
  }
 ],
 "metadata": {
  "kernelspec": {
   "display_name": "Python [conda env:myenv]",
   "language": "python",
   "name": "conda-env-myenv-py"
  },
  "language_info": {
   "codemirror_mode": {
    "name": "ipython",
    "version": 3
   },
   "file_extension": ".py",
   "mimetype": "text/x-python",
   "name": "python",
   "nbconvert_exporter": "python",
   "pygments_lexer": "ipython3",
   "version": "3.8.13"
  }
 },
 "nbformat": 4,
 "nbformat_minor": 5
}
