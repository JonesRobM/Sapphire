{
 "cells": [
  {
   "cell_type": "code",
   "execution_count": null,
   "id": "99ee30b3",
   "metadata": {},
   "outputs": [],
   "source": [
    "from Sapphire.Utilities.Building import nanoico #Let's build a small example nanocluster\n",
    "nanoico.Nanoalloy.create_alloy_ico(['Au', 'Au', 'Au', 'Au', 'Au'], 6, 4.07, 'Au561.xyz')\n"
   ]
  },
  {
   "cell_type": "markdown",
   "id": "20d9c97b",
   "metadata": {},
   "source": [
    "Using the building tools in Sapphire, we are able to construct a small Au icosahedron of 561 atoms.\n",
    "We may now proceed to perform some targetted alanysis on this object."
   ]
  },
  {
   "cell_type": "code",
   "execution_count": null,
   "id": "5bef38bc",
   "metadata": {},
   "outputs": [],
   "source": [
    "from Sapphire.Post_Process import Adjacent,Kernels,DistFuncs #Some basic tools geometric analysis\n",
    "from ase.io import read #Whilst this is a part of the core Sapphire setup, we can demonstrate its uitility more easily here\n",
    "\n",
    "au = read('Au561.xyz')\n",
    "pos = au.positions\n",
    "dist = DistFuncs.Euc_Dist(pos) #Get a list of pairwise distances.\n",
    "#Now why don't we visualise the pair distances as a distribution?\n",
    "import matplotlib.pyplot as plt\n",
    "a,b,c = plt.hist(dist, density=True, bins = 200)"
   ]
  },
  {
   "cell_type": "markdown",
   "id": "2823fb46",
   "metadata": {},
   "source": [
    "This does not look particularly helpful, and so we shall make use of Sapphire's Kernel Density Estimators (KDEs) to get a smoother approximation on the pair distance distribution function.\n",
    "\n",
    "We primarily advocate for the use of the Gaussian kernels, though others are supported.\n",
    "A bandwidth of 0.05 should be adequate to acquire a good balance between smoothness and detail in the resultant distribution.\n",
    "\n",
    "As a default, Sapphire only considers the first 6 Å of pair distances for the sake of speed when computing the full KDE. However, this is something which is easily varied, as explored in the PDDF tutorial."
   ]
  },
  {
   "cell_type": "code",
   "execution_count": null,
   "id": "af7be854",
   "metadata": {},
   "outputs": [],
   "source": [
    "K = Kernels.Gauss(dist, 0.05)"
   ]
  },
  {
   "cell_type": "code",
   "execution_count": null,
   "id": "0f9217b4",
   "metadata": {},
   "outputs": [],
   "source": [
    "fig,ax = plt.subplots()\n",
    "ax.plot(K.Space, K.Density, color = 'k', label = 'Gaussian KDE')\n",
    "ax1 = ax.twinx()\n",
    "a,b,c = ax1.hist(dist, density=True, bins = 200, color = 'r', label = 'Raw Histogram')\n",
    "plt.xlim(0,6)\n",
    "ax.set_xlabel('Pair distance (Å)')\n",
    "ax.set_ylabel('Freq arb. un.')\n",
    "fig.legend()"
   ]
  },
  {
   "cell_type": "markdown",
   "id": "5a3828fc",
   "metadata": {},
   "source": [
    "As we can see, there is a distinct advantage in using the KDE method to compute the pair distance distribution function over the raw histogram. Namely, we are able to extract information more easily, and being an analytic function, taking derivatives to find minima is simple!\n",
    "\n",
    "\n",
    "Next, we compute the adjacency matrix which is stored as a sparse scipy matrix to save on memory overheads. This simply requires the atomic positions, the pair distances we computed earlier, and the first minimum of the pair distance distribution function."
   ]
  },
  {
   "cell_type": "code",
   "execution_count": null,
   "id": "6dcb6f03",
   "metadata": {},
   "outputs": [],
   "source": [
    "A = Adjacent.Adjacency_Matrix(Positions=pos, Distances=dist, R_Cut=K.R_Cut)\n",
    "adj = A.ReturnAdj()"
   ]
  },
  {
   "cell_type": "markdown",
   "id": "6271382b",
   "metadata": {},
   "source": [
    "We shall introduce the CNA function by running through the main workflow explicitly before hiding much of the machinary behind the curtain of python."
   ]
  },
  {
   "cell_type": "code",
   "execution_count": null,
   "id": "35b46c55",
   "metadata": {},
   "outputs": [],
   "source": [
    "from Sapphire.CNA.FrameSignature import CNA\n",
    "Sigs = {} #We shall not presupose the existence of any CNA signatures.\n",
    "for i, atom in enumerate(au): #Iterate over all atoms in the cluster \n",
    "    cna = CNA(adj = adj)\n",
    "    cna.NN(atom) #Aquire the nearest neighbours to the reference atom being considered\n",
    "    for neigh in cna.neigh:\n",
    "        sig = tuple((cna.R(atom,neigh), cna.S(), cna.T()))\n",
    "        try:\n",
    "            Sigs[sig]+=1\n",
    "        except KeyError:\n",
    "            print(sig)\n",
    "            Sigs[sig] = 1"
   ]
  },
  {
   "cell_type": "markdown",
   "id": "b7db70e6",
   "metadata": {},
   "source": [
    "As we can see, there are 5 CNA signatures associated with the Ih structure which have been identified. This is indeed as it should be. \n",
    "\n",
    "555 - indicative of a 5-fold symmetry axis.\n",
    "422 & 421 - Indicative of FCC environment\n",
    "322 & 321 are generally representative of surfaces with (111) Miller indices. This shall be expanded on later in the tutorial.\n",
    "\n",
    "With our signatures collected, we may now evaluate their distribution."
   ]
  },
  {
   "cell_type": "code",
   "execution_count": null,
   "id": "d552d154",
   "metadata": {},
   "outputs": [],
   "source": [
    "import numpy as np\n",
    "xaxis = np.arange(0,len(Sigs)) #Define the range for the x axis\n",
    "yaxis = np.array([x for x in Sigs.values()]) #Set the y axis values from the dictionary\n",
    "xlabels = [ str(x) for x in Sigs.keys() ] #Create a list of labels for the bar chart\n",
    "\n",
    "plt.bar(xaxis,yaxis)\n",
    "\n",
    "plt.xticks(xaxis,xlabels, rotation = 45)\n",
    "plt.xlabel('CNA signature')\n",
    "plt.ylabel('Counts')"
   ]
  },
  {
   "cell_type": "code",
   "execution_count": null,
   "id": "3bbd61e2",
   "metadata": {},
   "outputs": [],
   "source": []
  }
 ],
 "metadata": {
  "kernelspec": {
   "display_name": "Python [conda env:myenv]",
   "language": "python",
   "name": "conda-env-myenv-py"
  },
  "language_info": {
   "codemirror_mode": {
    "name": "ipython",
    "version": 3
   },
   "file_extension": ".py",
   "mimetype": "text/x-python",
   "name": "python",
   "nbconvert_exporter": "python",
   "pygments_lexer": "ipython3",
   "version": "3.8.13"
  }
 },
 "nbformat": 4,
 "nbformat_minor": 5
}
