{
 "cells": [
  {
   "cell_type": "code",
   "execution_count": 1,
   "id": "ae9b9c7e",
   "metadata": {},
   "outputs": [],
   "source": [
    "import sys\n",
    "sys.executable\n",
    "import asap3"
   ]
  },
  {
   "cell_type": "code",
   "execution_count": null,
   "id": "d9904ff7",
   "metadata": {},
   "outputs": [],
   "source": [
    "from Post_Process import Process\n",
    "import pickle\n",
    "# Define the environment variables for your analysis.\n",
    "\n",
    "System = {\n",
    "    'base_dir': '',\n",
    "    'movie_file_name': 'movie.xyz',\n",
    "    'energy_file_name': 'energy.out',\n",
    "\n",
    "    'Homo': ['Au', 'Pt'],\n",
    "\n",
    "    'Hetero': False,\n",
    "\n",
    "    'Start': 0, 'End': None, 'Step': 1, 'Skip': 50\n",
    "}\n"
   ]
  },
  {
   "cell_type": "code",
   "execution_count": null,
   "id": "c410334a",
   "metadata": {},
   "outputs": [],
   "source": [
    "# Define the quantities you want calculating given the names\n",
    "# in the supporting documentation.\n",
    "\n",
    "Quantities = {\n",
    "    'Full':\n",
    "    {\n",
    "        'euc': None, 'rdf': None, 'pos': None,  'comdist': None,\n",
    "        'moi': None, 'adj': None, 'pdf': None, 'pair_distance': None,\n",
    "        'agcn': {'Write_Movie': False},\n",
    "        'nn': None, 'com': None, 'cna_sigs': None,\n",
    "        'cna_patterns': {'Write_Movie': True},\n",
    "        'gyration': None, 'stat_radius': None,\n",
    "        'surf_area': None, 'surf_atoms': None\n",
    "    },\n",
    "\n",
    "        'Energy':\n",
    "    {\n",
    "        'simtime': None, 'epot': None, 'etot': None,\n",
    "        'ekin': None, 'edelta': None, 'meanetot': None, 'temp': None\n",
    "    },\n",
    "\n",
    "        'Homo':\n",
    "    {\n",
    "        'hopdf': None, 'hordf': None,\n",
    "        'hocom': None, 'hoadj': None,\n",
    "        'hocomdist': None, 'homidcomdist': None,\n",
    "        'euc': None, 'hocna_sigs': None,\n",
    "        'hocna_patterns': None, 'hogyration': None,\n",
    "        'hosurf_area': None, 'hosurf_atoms': None,\n",
    "        'hopair_distance': None\n",
    "    }\n",
    "}\n",
    "\n",
    "CNA_Pattern_Settings = {\n",
    "    'npz_dir': 'CNA_npz/',  # folder to save the npz files in\n",
    "    'new_xyz_dir': 'CNA_XYZs/',\n",
    "    'APPEND_DICTIONARY': False,\n",
    "    'FROM_MEMORY': False,\n",
    "    'BULK_MASTERKEY': True,\n",
    "    'SAVING_XYZ': True,\n",
    "    'PRINTING_PATTERNS': True\n",
    "}"
   ]
  },
  {
   "cell_type": "code",
   "execution_count": null,
   "id": "3b3f5c2a",
   "metadata": {},
   "outputs": [],
   "source": [
    "\n",
    "Data = Process.Process(\n",
    "    System=System, Quantities=Quantities,\n",
    "    Pattern_Input=CNA_Pattern_Settings, Cores=6\n",
    ")\n",
    "\n",
    "Meta = Data.analyse()"
   ]
  },
  {
   "cell_type": "code",
   "execution_count": null,
   "id": "ede910db",
   "metadata": {},
   "outputs": [],
   "source": [
    "with open(System['base_dir']+\"Metadata.csv\", \"wb\") as file:\n",
    "    pickle.dump(Data.metadata, file, protocol=pickle.HIGHEST_PROTOCOL)\n"
   ]
  },
  {
   "cell_type": "code",
   "execution_count": null,
   "id": "f7a7c488",
   "metadata": {},
   "outputs": [],
   "source": []
  },
  {
   "cell_type": "code",
   "execution_count": null,
   "id": "33f7109d",
   "metadata": {},
   "outputs": [],
   "source": []
  }
 ],
 "metadata": {
  "kernelspec": {
   "display_name": "Env",
   "language": "python",
   "name": "env"
  },
  "language_info": {
   "codemirror_mode": {
    "name": "ipython",
    "version": 3
   },
   "file_extension": ".py",
   "mimetype": "text/x-python",
   "name": "python",
   "nbconvert_exporter": "python",
   "pygments_lexer": "ipython3",
   "version": "3.6.9"
  }
 },
 "nbformat": 4,
 "nbformat_minor": 5
}
