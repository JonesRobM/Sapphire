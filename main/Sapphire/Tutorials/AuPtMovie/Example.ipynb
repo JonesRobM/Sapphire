{
 "cells": [
  {
   "cell_type": "code",
   "execution_count": 2,
   "id": "9ec9256b",
   "metadata": {},
   "outputs": [
    {
     "ename": "ModuleNotFoundError",
     "evalue": "No module named 'main'",
     "output_type": "error",
     "traceback": [
      "\u001b[1;31m---------------------------------------------------------------------------\u001b[0m",
      "\u001b[1;31mModuleNotFoundError\u001b[0m                       Traceback (most recent call last)",
      "\u001b[1;32m<ipython-input-2-616c81ca4b4e>\u001b[0m in \u001b[0;36m<module>\u001b[1;34m\u001b[0m\n\u001b[1;32m----> 1\u001b[1;33m \u001b[1;32mfrom\u001b[0m \u001b[0mmain\u001b[0m\u001b[1;33m.\u001b[0m\u001b[0mSapphire\u001b[0m\u001b[1;33m.\u001b[0m\u001b[0mPost_Process\u001b[0m \u001b[1;32mimport\u001b[0m \u001b[0mProcess\u001b[0m\u001b[1;33m\u001b[0m\u001b[1;33m\u001b[0m\u001b[0m\n\u001b[0m\u001b[0;32m      2\u001b[0m \u001b[1;31m# Define the environment variables for your analysis.\u001b[0m\u001b[1;33m\u001b[0m\u001b[1;33m\u001b[0m\u001b[1;33m\u001b[0m\u001b[0m\n\u001b[0;32m      3\u001b[0m \u001b[1;33m\u001b[0m\u001b[0m\n\u001b[0;32m      4\u001b[0m System = {\n\u001b[0;32m      5\u001b[0m     \u001b[1;34m'base_dir'\u001b[0m\u001b[1;33m:\u001b[0m \u001b[1;34m''\u001b[0m\u001b[1;33m,\u001b[0m\u001b[1;33m\u001b[0m\u001b[1;33m\u001b[0m\u001b[0m\n",
      "\u001b[1;31mModuleNotFoundError\u001b[0m: No module named 'main'"
     ]
    }
   ],
   "source": [
    "from main.Sapphire.Post_Process import Process\n",
    "# Define the environment variables for your analysis.\n",
    "\n",
    "System = {\n",
    "    'base_dir': '',\n",
    "    'movie_file_name': 'movie.xyz',\n",
    "\n",
    "    'Homo': ['Au', 'Pt'],\n",
    "\n",
    "    'Hetero': False,\n",
    "\n",
    "    'Start': 0, 'End': None, 'Step': 1, 'Skip': 1\n",
    "}"
   ]
  },
  {
   "cell_type": "code",
   "execution_count": null,
   "id": "0694c767",
   "metadata": {},
   "outputs": [],
   "source": [
    "# Define the quantities you want calculating given the names\n",
    "# in the supporting documentation.\n",
    "\n",
    "Quantities = {\n",
    "    'Full':\n",
    "    {\n",
    "        'euc': None, 'rdf': None, 'pos': None,  'comdist': None,\n",
    "        'moi': None, 'adj': None, 'pdf': None, 'pair_distance': None,\n",
    "        'agcn': {'Write_Movie': False},\n",
    "        'nn': None, 'com': None, 'cna_sigs': None,\n",
    "        'cna_patterns': {'Write_Movie': True},\n",
    "        'gyration': None, 'stat_radius': None,\n",
    "        'surf_area': None, 'surf_atoms': None\n",
    "    },\n",
    "\n",
    "        'Energy':\n",
    "    {\n",
    "        'simtime': None, 'epot': None, 'etot': None,\n",
    "        'ekin': None, 'edelta': None, 'meanetot': None, 'temp': None\n",
    "    },\n",
    "\n",
    "        'Homo':\n",
    "    {\n",
    "        'hopdf': None, 'hordf': None,\n",
    "        'hocom': None, 'hoadj': None,\n",
    "        'hocomdist': None, 'homidcomdist': None,\n",
    "        'euc': None, 'hocna_sigs': None,\n",
    "        'hocna_patterns': None, 'hogyration': None,\n",
    "        'hosurf_area': None, 'hosurf_atoms': None,\n",
    "        'hopair_distance': None\n",
    "    },\n",
    "        'Hetero':\n",
    "    {\n",
    "        'herdf': None, 'henn' :None,\n",
    "        'headj': None, 'mix': None,\n",
    "        'he_pair_distance': None,\n",
    "        'homobonds': None,\n",
    "        'heterobonds' : None,\n",
    "        'elenn' : None,\n",
    "        'lae' : None\n",
    "    }\n",
    "}"
   ]
  },
  {
   "cell_type": "code",
   "execution_count": null,
   "id": "8b5a8364",
   "metadata": {},
   "outputs": [],
   "source": [
    "CNA_Pattern_Settings = {\n",
    "    'npz_dir': 'CNA_npz/',  # folder to save the npz files in\n",
    "    'new_xyz_dir': 'CNA_XYZs/',\n",
    "    'APPEND_DICTIONARY': False,\n",
    "    'FROM_MEMORY': False,\n",
    "    'BULK_MASTERKEY': True,\n",
    "    'SAVING_XYZ': True,\n",
    "    'PRINTING_PATTERNS': True\n",
    "}"
   ]
  },
  {
   "cell_type": "code",
   "execution_count": null,
   "id": "b103500f",
   "metadata": {},
   "outputs": [],
   "source": [
    "Data = Post_Process.Process(\n",
    "    System=System, Quantities=Quantities,\n",
    "    Pattern_Input=CNA_Pattern_Settings, Cores=6\n",
    ")\n"
   ]
  },
  {
   "cell_type": "code",
   "execution_count": null,
   "id": "894637a9",
   "metadata": {},
   "outputs": [],
   "source": []
  },
  {
   "cell_type": "code",
   "execution_count": null,
   "id": "a229837b",
   "metadata": {},
   "outputs": [],
   "source": []
  }
 ],
 "metadata": {
  "kernelspec": {
   "display_name": "Python [conda env:MyEnv]",
   "language": "python",
   "name": "conda-env-MyEnv-py"
  },
  "language_info": {
   "codemirror_mode": {
    "name": "ipython",
    "version": 3
   },
   "file_extension": ".py",
   "mimetype": "text/x-python",
   "name": "python",
   "nbconvert_exporter": "python",
   "pygments_lexer": "ipython3",
   "version": "3.8.3"
  }
 },
 "nbformat": 4,
 "nbformat_minor": 5
}
