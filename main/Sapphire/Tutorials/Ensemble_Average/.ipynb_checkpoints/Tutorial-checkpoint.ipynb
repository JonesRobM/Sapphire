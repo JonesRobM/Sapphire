{
 "cells": [
  {
   "cell_type": "code",
   "execution_count": 1,
   "id": "cd190947",
   "metadata": {},
   "outputs": [
    {
     "name": "stderr",
     "output_type": "stream",
     "text": [
      "C:\\Users\\jones\\anaconda3\\envs\\myenv\\lib\\site-packages\\numpy\\_distributor_init.py:30: UserWarning: loaded more than 1 DLL from .libs:\n",
      "C:\\Users\\jones\\anaconda3\\envs\\myenv\\lib\\site-packages\\numpy\\.libs\\libopenblas.4SP5SUA7CBGXUEOC35YP2ASOICYYEQZZ.gfortran-win_amd64.dll\n",
      "C:\\Users\\jones\\anaconda3\\envs\\myenv\\lib\\site-packages\\numpy\\.libs\\libopenblas.XWYDX2IKJW2NMTWSFYNGFUWKQU3LYTCZ.gfortran-win_amd64.dll\n",
      "  warnings.warn(\"loaded more than 1 DLL from .libs:\"\n"
     ]
    }
   ],
   "source": [
    "import os\n",
    "from Sapphire.Post_Process import Process\n",
    "import tarfile\n",
    "def UnLoad(TarFile):\n",
    "    # open file\n",
    "    file = tarfile.open(TarFile)\n",
    "\n",
    "    # extract files\n",
    "    file.extractall('')\n",
    "\n",
    "    # close file\n",
    "    file.close()"
   ]
  },
  {
   "cell_type": "markdown",
   "id": "0c21f083",
   "metadata": {},
   "source": [
    "Let's start with the first data set in the Data folder."
   ]
  },
  {
   "cell_type": "code",
   "execution_count": 2,
   "id": "cbf7bcf4",
   "metadata": {},
   "outputs": [],
   "source": [
    "os.chdir('../Data/')\n",
    "UnLoad('AgNi.tar.gz')\n",
    "os.chdir('AgNi_Traj')"
   ]
  },
  {
   "cell_type": "code",
   "execution_count": 3,
   "id": "99ee30b3",
   "metadata": {},
   "outputs": [],
   "source": [
    "System = {\n",
    "    'base_dir': 'Sim-1345/',\n",
    "    'movie_file_name': 'traj.traj',\n",
    "\n",
    "    'Homo': ['Ag', 'Ni'],\n",
    "\n",
    "    'Hetero': True,\n",
    "\n",
    "    'Start': 0, 'End': 10, 'Step': 1, 'Skip': 1, 'UniformPDF': False, 'Band': 0.05\n",
    "}\n",
    "\n",
    "CNA_Pattern_Settings = {\n",
    "    'npz_dir': 'CNA_npz/',  # folder to save the npz files in\n",
    "    'new_xyz_dir': 'CNA_XYZs/',\n",
    "    'APPEND_DICTIONARY': False,\n",
    "    'FROM_MEMORY': False,\n",
    "    'BULK_MASTERKEY': True,\n",
    "    'SAVING_XYZ': True,\n",
    "    'PRINTING_PATTERNS': True\n",
    "}"
   ]
  },
  {
   "cell_type": "code",
   "execution_count": 4,
   "id": "c22c885b",
   "metadata": {},
   "outputs": [
    {
     "ename": "SyntaxError",
     "evalue": "invalid syntax (1776292320.py, line 33)",
     "output_type": "error",
     "traceback": [
      "\u001b[1;36m  Input \u001b[1;32mIn [4]\u001b[1;36m\u001b[0m\n\u001b[1;33m    'heterobonds' : None\u001b[0m\n\u001b[1;37m    ^\u001b[0m\n\u001b[1;31mSyntaxError\u001b[0m\u001b[1;31m:\u001b[0m invalid syntax\n"
     ]
    }
   ],
   "source": [
    "Quantities = {\n",
    "    'Full':\n",
    "    {\n",
    "        'euc': None, 'rdf': None, 'pos': None,  'comdist': None,\n",
    "        'moi': None, 'adj': None, 'pdf': None, 'pair_distance': None,\n",
    "        'agcn': {'Write_Movie': False},\n",
    "        'nn': None, 'com': None, 'cna_sigs': None,\n",
    "        'cna_patterns': {'Write_Movie': True},\n",
    "        'gyration': None, 'stat_radius': None,\n",
    "        'surf_area': None, 'surf_atoms': None\n",
    "    },\n",
    "\n",
    "        'Homo':\n",
    "    {\n",
    "        'hopdf': None, 'hordf': None,\n",
    "        'hocom': None, 'hoadj': None,\n",
    "        'hocomdist': None, 'homidcomdist': None,\n",
    "        'euc': None, 'hocna_sigs': None,\n",
    "        'hocna_patterns': None, 'hogyration': None,\n",
    "        'hosurf_area': None, 'hosurf_atoms': None,\n",
    "        'hopair_distance': None,\n",
    "        'homobonds' : None\n",
    "    },\n",
    "\n",
    "        'Hetero':\n",
    "    {\n",
    "        'hepdf': None, 'herdf': None,\n",
    "        'headj': None, 'mix': None,\n",
    "        'he_pair_distance': None, \n",
    "        'mix' : None,\n",
    "        'lae' : None,\n",
    "        'ele_nn' : None,\n",
    "        'heterobonds' : None\n",
    "    }\n",
    "}"
   ]
  },
  {
   "cell_type": "code",
   "execution_count": null,
   "id": "5bef38bc",
   "metadata": {},
   "outputs": [],
   "source": [
    "Analysis = {\n",
    "    # \"JSD\" : [\"rdf\", \"pdf\"],\n",
    "    # \"Kullback\" : [\"rdf\", \"pdf\"],\n",
    "    # \"PStat\" : [\"rdf\", \"pdf\"]\n",
    "}"
   ]
  },
  {
   "cell_type": "code",
   "execution_count": null,
   "id": "09ea582c",
   "metadata": {},
   "outputs": [],
   "source": [
    "Data = Process.Process(\n",
    "    System=System, Quantities=Quantities,\n",
    "    Pattern_Input=CNA_Pattern_Settings\n",
    ")\n"
   ]
  },
  {
   "cell_type": "code",
   "execution_count": null,
   "id": "af7be854",
   "metadata": {},
   "outputs": [],
   "source": []
  },
  {
   "cell_type": "code",
   "execution_count": null,
   "id": "0f9217b4",
   "metadata": {},
   "outputs": [],
   "source": []
  },
  {
   "cell_type": "markdown",
   "id": "5a3828fc",
   "metadata": {},
   "source": []
  },
  {
   "cell_type": "code",
   "execution_count": null,
   "id": "6dcb6f03",
   "metadata": {},
   "outputs": [],
   "source": []
  },
  {
   "cell_type": "markdown",
   "id": "6271382b",
   "metadata": {},
   "source": []
  },
  {
   "cell_type": "code",
   "execution_count": null,
   "id": "35b46c55",
   "metadata": {},
   "outputs": [],
   "source": []
  },
  {
   "cell_type": "markdown",
   "id": "b7db70e6",
   "metadata": {},
   "source": []
  },
  {
   "cell_type": "code",
   "execution_count": null,
   "id": "d552d154",
   "metadata": {},
   "outputs": [],
   "source": []
  },
  {
   "cell_type": "markdown",
   "id": "650f7872",
   "metadata": {},
   "source": []
  },
  {
   "cell_type": "code",
   "execution_count": null,
   "id": "25a05583",
   "metadata": {},
   "outputs": [],
   "source": []
  },
  {
   "cell_type": "code",
   "execution_count": null,
   "id": "bde8c8d3",
   "metadata": {},
   "outputs": [],
   "source": []
  },
  {
   "cell_type": "code",
   "execution_count": null,
   "id": "6577e979",
   "metadata": {},
   "outputs": [],
   "source": []
  },
  {
   "cell_type": "code",
   "execution_count": null,
   "id": "8f303871",
   "metadata": {},
   "outputs": [],
   "source": []
  },
  {
   "cell_type": "code",
   "execution_count": null,
   "id": "aefdcd05",
   "metadata": {},
   "outputs": [],
   "source": []
  },
  {
   "cell_type": "code",
   "execution_count": null,
   "id": "0fc7dd78",
   "metadata": {},
   "outputs": [],
   "source": []
  },
  {
   "cell_type": "code",
   "execution_count": null,
   "id": "4ca18cfb",
   "metadata": {},
   "outputs": [],
   "source": []
  },
  {
   "cell_type": "code",
   "execution_count": null,
   "id": "498aa5eb",
   "metadata": {},
   "outputs": [],
   "source": []
  },
  {
   "cell_type": "code",
   "execution_count": null,
   "id": "9c89da3d",
   "metadata": {},
   "outputs": [],
   "source": []
  },
  {
   "cell_type": "code",
   "execution_count": null,
   "id": "75ece13a",
   "metadata": {},
   "outputs": [],
   "source": []
  },
  {
   "cell_type": "code",
   "execution_count": null,
   "id": "74aac2c8",
   "metadata": {},
   "outputs": [],
   "source": []
  },
  {
   "cell_type": "code",
   "execution_count": null,
   "id": "5e503788",
   "metadata": {},
   "outputs": [],
   "source": []
  },
  {
   "cell_type": "code",
   "execution_count": null,
   "id": "28a571a2",
   "metadata": {},
   "outputs": [],
   "source": []
  },
  {
   "cell_type": "code",
   "execution_count": null,
   "id": "85f8539c",
   "metadata": {},
   "outputs": [],
   "source": []
  },
  {
   "cell_type": "code",
   "execution_count": null,
   "id": "38558432",
   "metadata": {},
   "outputs": [],
   "source": []
  }
 ],
 "metadata": {
  "kernelspec": {
   "display_name": "Python [conda env:myenv]",
   "language": "python",
   "name": "conda-env-myenv-py"
  },
  "language_info": {
   "codemirror_mode": {
    "name": "ipython",
    "version": 3
   },
   "file_extension": ".py",
   "mimetype": "text/x-python",
   "name": "python",
   "nbconvert_exporter": "python",
   "pygments_lexer": "ipython3",
   "version": "3.8.13"
  }
 },
 "nbformat": 4,
 "nbformat_minor": 5
}
